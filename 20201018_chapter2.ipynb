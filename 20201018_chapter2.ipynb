{
 "cells": [
  {
   "cell_type": "markdown",
   "metadata": {},
   "source": [
    "### 리스트의 활용"
   ]
  },
  {
   "cell_type": "code",
   "execution_count": 18,
   "metadata": {},
   "outputs": [
    {
     "name": "stdout",
     "output_type": "stream",
     "text": [
      "91\n",
      "71\n",
      "51\n"
     ]
    }
   ],
   "source": [
    "# 여기 빈 리스트가 있습니다.\n",
    "number_list = []\n",
    "\n",
    "# number_list에 1부터 100까지 수를 거꾸로 넣어보세요\n",
    "# 예: 100, 99, 98, ... 3, 2, 1\n",
    "for i in range(0,100) :\n",
    "    number_list.append(100 - i) # append : 잡어넣는거\n",
    "    \n",
    "# number_list에서 10번째, 30번째, 50번째 원소를 각각 출력해봅시다\n",
    "print(number_list[9]) # 10번째 원소\n",
    "print(number_list[29]) # 30번째 원소\n",
    "33 print(number_list[49]) # 50번째 원소"
   ]
  },
  {
   "cell_type": "markdown",
   "metadata": {},
   "source": [
    "### 나만의 함수 만들기"
   ]
  },
  {
   "cell_type": "code",
   "execution_count": 21,
   "metadata": {},
   "outputs": [
    {
     "name": "stdout",
     "output_type": "stream",
     "text": [
      "100\n"
     ]
    }
   ],
   "source": [
    "# 입력 숫자\n",
    "input_num = 10\n",
    "# 숫자 데이터를 넣었을 때 10배로 되돌려주는 함수\n",
    "def my_function(a):\n",
    "    return (a * 10)\n",
    "\n",
    "# my_function을 사용하여 result에 값을 저장합니다.\n",
    "result = my_function(input_num)\n",
    "\n",
    "# 최종 결과값을 출력합니다.\n",
    "print(result)"
   ]
  },
  {
   "cell_type": "markdown",
   "metadata": {},
   "source": [
    "### pandas 기본(1)"
   ]
  },
  {
   "cell_type": "code",
   "execution_count": 22,
   "metadata": {},
   "outputs": [],
   "source": [
    "import pandas as pd\n",
    "\n",
    "# 코로나 엑셀 데이터 파일(.xlsx)이 저장된 경로입니다.\n",
    "#data_path = './data/corona_data.xlsx'\n",
    "\n",
    "# pandas를 활용해 엑셀 파일을 불러오고, corona_data에 저장합니다.\n",
    "#corona_data = pd.read_excel(data_path)\n",
    "\n",
    "# corona_data셋에서 '확진자' 데이터만 추출하여 출력해보세요\n",
    "#confirmed = corona_data['확진자']\n",
    "#print(confirmed)"
   ]
  },
  {
   "cell_type": "markdown",
   "metadata": {},
   "source": [
    "### pandas 기본(2)"
   ]
  },
  {
   "cell_type": "markdown",
   "metadata": {},
   "source": [
    ".loc[행 지정, 열 지정]이다<br>\n",
    "df.loc[df['과일']=='사과','가격'] 이면 과일 열 값이 사과인 행의 가격만 표시하게 되는 것"
   ]
  },
  {
   "cell_type": "code",
   "execution_count": 23,
   "metadata": {},
   "outputs": [],
   "source": [
    "import pandas as pd\n",
    "\n",
    "# 코로나 데이터를 불러옵니다.\n",
    "#data_path = './data/corona_data.xlsx'\n",
    "#corona_data = pd.read_excel(data_path)\n",
    "\n",
    "# 확진자가 10000명 이상인 시점부터의 모든 데이터를 추출합니다.\n",
    "#confirmed_10000 = corona_data.loc[corona_data['확진자']>=10000 , :] # : 이면 모든 행 열\n",
    "#print(confirmed_10000)"
   ]
  },
  {
   "cell_type": "markdown",
   "metadata": {},
   "source": [
    "머신러닝 = 명시적으로 프로그래밍을 하지 않고도 컴퓨터가 학습할 수 있는 능력을 갖게 하는것"
   ]
  },
  {
   "cell_type": "markdown",
   "metadata": {},
   "source": [
    "기계학습 - 지도학습     - 회귀 분석\n",
    "                   - 분류\n",
    "                        \n",
    "                        \n",
    "                        \n",
    "         - 비지도학습   - 클러스터링\n",
    "    \n",
    "         - 강화학습"
   ]
  },
  {
   "cell_type": "code",
   "execution_count": 25,
   "metadata": {},
   "outputs": [
    {
     "data": {
      "text/plain": [
       "array([1., 2., 3., 4.])"
      ]
     },
     "execution_count": 25,
     "metadata": {},
     "output_type": "execute_result"
    }
   ],
   "source": [
    "import numpy as np\n",
    "np.array([1,2,3,4],dtype=float)"
   ]
  },
  {
   "cell_type": "markdown",
   "metadata": {},
   "source": [
    "### Numpy "
   ]
  },
  {
   "cell_type": "markdown",
   "metadata": {},
   "source": [
    "Numpy library에서 자주 사용되는 함수<br>\n",
    "np.array - 배열생성<br>\n",
    "np.zeros - 0이 들어있는 배열 생성<br>\n",
    "np.ones - 1이 들어있는 배열 생성<br>\n",
    "np.empty - 초기화가 없는 값으로 배열을 반환<br>\n",
    "np.arange(n) - 배열 버전의 range 함수<br>\n",
    "np.random.randint - 다양한 난수가 들어있는 배열 생성<br>"
   ]
  },
  {
   "cell_type": "code",
   "execution_count": 26,
   "metadata": {},
   "outputs": [
    {
     "data": {
      "text/plain": [
       "array([1, 2])"
      ]
     },
     "execution_count": 26,
     "metadata": {},
     "output_type": "execute_result"
    }
   ],
   "source": [
    "arr = np.arange(7)\n",
    "arr[1:3]"
   ]
  },
  {
   "cell_type": "code",
   "execution_count": 35,
   "metadata": {},
   "outputs": [
    {
     "name": "stdout",
     "output_type": "stream",
     "text": [
      "1차원 array\n",
      "[0 1 2 3 4 5 6 7 8 9]\n"
     ]
    },
    {
     "data": {
      "text/plain": [
       "array([3, 4, 5])"
      ]
     },
     "execution_count": 35,
     "metadata": {},
     "output_type": "execute_result"
    }
   ],
   "source": [
    "import numpy as np\n",
    "\n",
    "print(\"1차원 array\")\n",
    "array = np.arange(10)\n",
    "print(array)\n",
    "\n",
    "# Q1. array의 자료형을 출력해보세요.\n",
    "type(array)\n",
    "\n",
    "# Q2. array의 차원을 출력해보세요.\n",
    "array.ndim\n",
    "\n",
    "# Q3. array의 모양을 출력해보세요.\n",
    "array.shape\n",
    "\n",
    "# Q4. array의 크기를 출력해보세요.\n",
    "array.size\n",
    "\n",
    "# Q5. array의 dtype(data type)을 출력해보세요.\n",
    "array.dtype\n",
    "\n",
    "# Q6. array의 인덱스 5의 요소를 출력해보세요.\n",
    "array[5]\n",
    "\n",
    "# Q7. array의 인덱스 3의 요소부터 인덱스 5 요소까지 출력해보세요.\n",
    "array[3:6]\n"
   ]
  },
  {
   "cell_type": "code",
   "execution_count": 36,
   "metadata": {},
   "outputs": [
    {
     "name": "stdout",
     "output_type": "stream",
     "text": [
      "2차원 array\n",
      "[[ 1  2  3  4  5]\n",
      " [ 6  7  8  9 10]\n",
      " [11 12 13 14 15]]\n",
      "<class 'numpy.ndarray'>\n",
      "2\n",
      "(3, 5)\n",
      "15\n",
      "int32\n",
      "14\n",
      "[[2 3 4]\n",
      " [7 8 9]]\n"
     ]
    }
   ],
   "source": [
    "import numpy as np\n",
    "\n",
    "print(\"2차원 array\")\n",
    "matrix = np.arange(1, 16).reshape(3,5)  #1부터 15까지 들어있는 (3,5)짜리 배열을 만듭니다.\n",
    "print(matrix)\n",
    "\n",
    "\n",
    "# Q1. matrix의 자료형을 출력해보세요.\n",
    "print(type(matrix))\n",
    "\n",
    "# Q2. matrix의 차원을 출력해보세요.\n",
    "print(matrix.ndim)\n",
    "\n",
    "# Q3. matrix의 모양을 출력해보세요.\n",
    "print(matrix.shape)\n",
    "\n",
    "# Q4. matrix의 크기를 출력해보세요.\n",
    "print(matrix.size)\n",
    "\n",
    "# Q5. matrix의 dtype(data type)을 출력해보세요.\n",
    "print(matrix.dtype)\n",
    "\n",
    "# Q6. matrix의 (2,3) 인덱스의 요소를 출력해보세요.\n",
    "print(matrix[2,3])\n",
    "\n",
    "# Q7. matrix의 행은 인덱스 0부터 인덱스 1까지, 열은 인덱스 1부터 인덱스 3까지 출력해보세요.\n",
    "print(matrix[0:2,1:4])\n",
    "\n"
   ]
  },
  {
   "cell_type": "code",
   "execution_count": 37,
   "metadata": {},
   "outputs": [
    {
     "name": "stdout",
     "output_type": "stream",
     "text": [
      "array\n",
      "[0 1 2 3 4 5 6 7]\n",
      "shape :  (8,) \n",
      "\n",
      "# reshape (2, 4)\n",
      "[[0 1 2 3]\n",
      " [4 5 6 7]]\n",
      "shape :  (2, 4)\n"
     ]
    }
   ],
   "source": [
    "# 모양을 바꿔주는 함수 reshape\n",
    "import numpy as np\n",
    "\n",
    "print(\"array\")\n",
    "array = np.arange(8)\n",
    "print(array)\n",
    "print(\"shape : \", array.shape, \"\\n\")\n",
    "\n",
    "# Q1. array를 (2,4) 크기로 reshape하여 matrix에 저장한 뒤 matrix와 그의 shape를 출력해보세요.\n",
    "print(\"# reshape (2, 4)\")\n",
    "matrix =array.reshape(2,4)\n",
    "\n",
    "\n",
    "print(matrix)\n",
    "print(\"shape : \", matrix.shape)\n"
   ]
  },
  {
   "cell_type": "code",
   "execution_count": 38,
   "metadata": {},
   "outputs": [
    {
     "name": "stdout",
     "output_type": "stream",
     "text": [
      "matrix\n",
      "[[0 1 2 3]\n",
      " [4 5 6 7]]\n",
      "shape :  (2, 4) \n",
      "\n",
      "[[0 1 2 3]\n",
      " [4 5 6 7]\n",
      " [0 1 2 3]\n",
      " [4 5 6 7]]\n",
      "[[0 1 2 3 0 1 2 3]\n",
      " [4 5 6 7 4 5 6 7]]\n"
     ]
    }
   ],
   "source": [
    "# 이어 붙이는 concatenate axis = 0 : 세로 axis = 1 : 가로\n",
    "import numpy as np\n",
    "\n",
    "print(\"matrix\")\n",
    "matrix = np.array([[0,1,2,3],\n",
    "                   [4,5,6,7]])\n",
    "print(matrix)\n",
    "print(\"shape : \", matrix.shape, \"\\n\")\n",
    "\n",
    "# (아래의 배열 모양을 참고하세요.)\n",
    "# Q1. matrix 두 개를 세로로 붙이기 \n",
    "'''\n",
    "[[0 1 2 3]\n",
    " [4 5 6 7]\n",
    " [0 1 2 3]\n",
    " [4 5 6 7]]\n",
    "'''\n",
    "\n",
    "m = np.concatenate([matrix,matrix], axis = 0)\n",
    "print(m)\n",
    "\n",
    "#matrix = np.array([[0,1,2,3],[4,5,6,7],[0,1,2,3],[4,5,6,7]])\n",
    "#print(matrix)\n",
    "\n",
    "# Q2. matrix 두 개를 가로로 붙이기\n",
    "'''\n",
    "[[0 1 2 3 0 1 2 3]\n",
    " [4 5 6 7 4 5 6 7]]\n",
    "'''\n",
    "\n",
    "n = np.concatenate([matrix,matrix],axis = 1)\n",
    "print(n)\n"
   ]
  },
  {
   "cell_type": "code",
   "execution_count": 39,
   "metadata": {},
   "outputs": [
    {
     "name": "stdout",
     "output_type": "stream",
     "text": [
      "matrix\n",
      "[[ 0  1  2  3]\n",
      " [ 4  5  6  7]\n",
      " [ 8  9 10 11]\n",
      " [12 13 14 15]] \n",
      "\n",
      "[[ 0  1  2  3]\n",
      " [ 4  5  6  7]\n",
      " [ 8  9 10 11]] \n",
      "\n",
      "[[12 13 14 15]] \n",
      "\n",
      "[[ 0]\n",
      " [ 4]\n",
      " [ 8]\n",
      " [12]] \n",
      "\n",
      "[[ 1  2  3]\n",
      " [ 5  6  7]\n",
      " [ 9 10 11]\n",
      " [13 14 15]]\n"
     ]
    }
   ],
   "source": [
    "# 배열 분할 함수 : split\n",
    "import numpy as np\n",
    "\n",
    "print(\"matrix\")\n",
    "matrix = np.array([[ 0, 1, 2, 3],\n",
    "                   [ 4, 5, 6, 7],\n",
    "                   [ 8, 9,10,11], \n",
    "                   [12,13,14,15]])\n",
    "print(matrix, \"\\n\")\n",
    "\n",
    "# Q1. matrix를 [3] 행에서 axis 0으로 나누기\n",
    "'''\n",
    "[[0  1   2  3]\n",
    " [4  5   6  7]\n",
    " [8  9  10 11]],\n",
    "\n",
    " [12 13 14 15]\n",
    "'''\n",
    "\n",
    "a, b = np.split(matrix,[3], axis=0)\n",
    "\n",
    "print(a, \"\\n\")\n",
    "print(b, \"\\n\")\n",
    "\n",
    "\n",
    "# Q2. matrix를 [1] 열에서 axis 1로 나누기\n",
    "'''\n",
    "[[ 0]\n",
    " [ 4]\n",
    " [ 8]\n",
    " [12]],\n",
    "\n",
    "[[ 1  2  3]\n",
    " [ 5  6  7]\n",
    " [ 9 10 11]\n",
    " [13 14 15]]\n",
    "'''\n",
    "\n",
    "c, d = np.split(matrix, [1], axis = 1) \n",
    "\n",
    "print(c, \"\\n\")\n",
    "print(d)"
   ]
  },
  {
   "cell_type": "code",
   "execution_count": 40,
   "metadata": {},
   "outputs": [
    {
     "name": "stdout",
     "output_type": "stream",
     "text": [
      "[1 2 3 4 5]\n",
      "[ 6  7  8  9 10]\n",
      "[-4 -3 -2 -1  0]\n",
      "[ 5 10 15 20 25]\n",
      "[0.2 0.4 0.6 0.8 1. ]\n",
      "[6 6 6 6 6]\n",
      "[-4 -2  0  2  4]\n"
     ]
    }
   ],
   "source": [
    "# Numpy 연산\n",
    "import numpy as np\n",
    "\n",
    "array = np.array([1,2,3,4,5])\n",
    "print(array)\n",
    "\n",
    "# Q1. array에 5를 더한 값을 출력해보세요.\n",
    "print(array + 5)\n",
    "\n",
    "# Q2. array에 5를 뺀 값을 출력해보세요.\n",
    "print(array - 5)\n",
    "\n",
    "# Q3. array에 5를 곱한 값을 출력해보세요.\n",
    "print(np.dot(array,5))\n",
    "\n",
    "# Q4. array를 5로 나눈 값을 출력해보세요.\n",
    "print(array / 5)\n",
    "\n",
    "# Q5. array에 array2를 더한 값을 출력해보세요.    \n",
    "array2 = np.array([5,4,3,2,1])\n",
    "print(array + array2)\n",
    "\n",
    "# Q6. array에 array2를 뺀 값을 출력해보세요.\n",
    "print(array - array2)\n"
   ]
  },
  {
   "cell_type": "markdown",
   "metadata": {},
   "source": [
    "넘파이로 생성한 배열으 크기가 다를 경우 연산을 하게 되면 브로드캐스팅이라는 연산 방식으로 넘파이를 처리한다."
   ]
  },
  {
   "cell_type": "code",
   "execution_count": 41,
   "metadata": {},
   "outputs": [
    {
     "name": "stdout",
     "output_type": "stream",
     "text": [
      "[[ 0  1  2  3  4  5]\n",
      " [ 1  2  3  4  5  6]\n",
      " [ 2  3  4  5  6  7]\n",
      " [ 3  4  5  6  7  8]\n",
      " [ 4  5  6  7  8  9]\n",
      " [ 5  6  7  8  9 10]]\n"
     ]
    }
   ],
   "source": [
    "# 브로드캐스팅 \n",
    "import numpy as np\n",
    "\n",
    "'''\n",
    "[[0]\n",
    " [1]\n",
    " [2]\n",
    " [3]\n",
    " [4]\n",
    " [5]] 배열 A와\n",
    "\n",
    " [0 1 2 3 4 5] 배열 B를 선언하고, 덧셈 연산해보세요.\n",
    "'''\n",
    "\n",
    "A = np.arange(6).reshape(6,1)\n",
    "B = np.arange(6).reshape(1,6)\n",
    "\n",
    "print(A + B)"
   ]
  },
  {
   "cell_type": "code",
   "execution_count": 43,
   "metadata": {},
   "outputs": [
    {
     "name": "stdout",
     "output_type": "stream",
     "text": [
      "[[0 1 2 3]\n",
      " [4 5 6 7]]\n",
      "28\n",
      "7\n",
      "0\n",
      "3.5\n",
      "[ 4  6  8 10]\n",
      "[ 6 22]\n",
      "2.29128784747792\n",
      "[0 1 2 3 4]\n"
     ]
    }
   ],
   "source": [
    "# 집계함수\n",
    "import numpy as np\n",
    "\n",
    "matrix = np.arange(8).reshape((2, 4))\n",
    "print(matrix)\n",
    "\n",
    "# Q1. sum 함수로 matrix의 총 합계를 구해 출력해보세요.\n",
    "\n",
    "print(matrix.sum())\n",
    "\n",
    "# Q2. max 함수로 matrix 중 최댓값을 구해 출력해보세요.\n",
    "\n",
    "#print(matrix.max())\n",
    "print(np.max(matrix))\n",
    "\n",
    "# Q3. min 함수로 matrix 중 최솟값을 구해 출력해보세요.\n",
    "#print(matrix.min())\n",
    "print(np.min(matrix))\n",
    "\n",
    "# Q4. mean 함수로 matrix의 평균값을 구해 출력해보세요.\n",
    "\n",
    "#print(matrix.mean())\n",
    "print(np.mean(matrix))\n",
    "\n",
    "# Q5. sum 함수의 axis 매개변수로 각 열의 합을 구해 출력해보세요.\n",
    "\n",
    "print(np.sum(matrix,axis = 0))\n",
    "# Q6. sum 함수의 axis 매개변수로 각 행의 합을 구해 출력해보세요.\n",
    "print(np.sum(matrix,axis = 1))\n",
    "\n",
    "# Q7. std 함수로 matrix의 표준편차를 구해 출력해보세요.\n",
    "\n",
    "print(np.std(matrix))\n",
    "\n",
    "# Q8. 마스킹 연산을 이용하여 matrix 중 5보다 작은 수들만 추출하여 출력해보세요.\n",
    "# 마스킹 연산 = 필요한 부분만 추출하는 연산 \n",
    "print(matrix[matrix<5])\n"
   ]
  },
  {
   "cell_type": "code",
   "execution_count": 44,
   "metadata": {},
   "outputs": [
    {
     "name": "stdout",
     "output_type": "stream",
     "text": [
      "71\n"
     ]
    }
   ],
   "source": [
    "\n",
    "import numpy as np\n",
    "\n",
    "daily_liar_data = [0, 0, 0, 0, 0, 1, 1, 0, 1, 1, 0, 0, 0, 1, 0, 0, 1, 0, 0, 1, 0, 0, 0, 1, 0, 0, 0, 0, 0, 1, 0, 0, 0, 1, 0, 0, 0, 0, 0, 0, 0, 0, 0, 0, 1, 1, 0, 1, 1, 0, 0, 0, 0, 0, 1, 0, 1, 0, 0, 1, 0, 1, 0, 0, 1, 0, 0, 0, 0, 0, 1, 0, 1, 0, 1, 1, 0, 0, 0, 1, 0, 0, 0, 1, 0, 0, 1, 0, 0, 1, 0, 1, 0, 0, 1, 0, 0, 0, 0, 0]\n",
    "\n",
    "\n",
    "# 0이 몇 개 있는지 구하여 출력해주세요.\n",
    "\n",
    "def main() :\n",
    "    # 해당하는 코드 작성\n",
    "    a = np.array(daily_liar_data)\n",
    "    print(np.count_nonzero(a == 0))\n",
    "\n",
    "\n",
    "\n",
    "if __name__ == \"__main__\" :\n",
    "    main()"
   ]
  },
  {
   "cell_type": "markdown",
   "metadata": {},
   "source": [
    "### Pandas"
   ]
  },
  {
   "cell_type": "code",
   "execution_count": 45,
   "metadata": {},
   "outputs": [
    {
     "name": "stdout",
     "output_type": "stream",
     "text": [
      "a    1\n",
      "b    2\n",
      "c    3\n",
      "d    4\n",
      "Name: Title, dtype: int64 \n",
      "\n",
      "korea      5180\n",
      "japan     12718\n",
      "china    141500\n",
      "usa       32676\n",
      "dtype: int64\n"
     ]
    }
   ],
   "source": [
    "import numpy as np\n",
    "import pandas as pd\n",
    "\n",
    "# 예시) 시리즈 데이터를 만드는 방법.\n",
    "series = pd.Series([1,2,3,4], index = ['a', 'b', 'c', 'd'], name=\"Title\")\n",
    "print(series, \"\\n\")\n",
    "\n",
    "\n",
    "# 국가별 인구 수 시리즈 데이터를 딕셔너리를 사용하여 만들어보세요.\n",
    "\n",
    "country = pd.Series({'korea':5180, 'japan':12718, 'china':141500, 'usa':32676})\n",
    "print(country)"
   ]
  },
  {
   "cell_type": "code",
   "execution_count": 63,
   "metadata": {},
   "outputs": [
    {
     "name": "stdout",
     "output_type": "stream",
     "text": [
      "Population series data:\n",
      "korea      5180\n",
      "japan     12718\n",
      "china    141500\n",
      "usa       32676\n",
      "dtype: int64 \n",
      "\n",
      "GDP series data:\n",
      "korea     169320000\n",
      "japan     516700000\n",
      "china    1409250000\n",
      "usa      2041280000\n",
      "dtype: int64 \n",
      "\n",
      "Country DataFrame\n",
      "       population         gdp\n",
      "korea        5180   169320000\n",
      "japan       12718   516700000\n",
      "china      141500  1409250000\n",
      "usa         32676  2041280000\n",
      "       population         gdp  gdp_per_capita\n",
      "korea        5180   169320000    32687.258687\n",
      "japan       12718   516700000    40627.457147\n",
      "china      141500  1409250000     9959.363958\n",
      "usa         32676  2041280000    62470.314604\n",
      "Index(['korea', 'japan', 'china', 'usa'], dtype='object')\n",
      "Index(['population', 'gdp', 'gdp_per_capita'], dtype='object')\n"
     ]
    }
   ],
   "source": [
    "import numpy as np\n",
    "import pandas as pd\n",
    "\n",
    "# 두 개의 시리즈 데이터가 있습니다.\n",
    "print(\"Population series data:\")\n",
    "population_dict = {\n",
    "    'korea': 5180,\n",
    "    'japan': 12718,\n",
    "    'china': 141500,\n",
    "    'usa': 32676\n",
    "}\n",
    "population = pd.Series(population_dict)\n",
    "print(population, \"\\n\")\n",
    "\n",
    "print(\"GDP series data:\")\n",
    "gdp_dict = {\n",
    "    'korea': 169320000,\n",
    "    'japan': 516700000,\n",
    "    'china': 1409250000,\n",
    "    'usa': 2041280000,\n",
    "}\n",
    "gdp = pd.Series(gdp_dict)\n",
    "print(gdp, \"\\n\")\n",
    "\n",
    "\n",
    "# 이곳에서 2개의 시리즈 값이 들어간 데이터프레임을 생성합니다.\n",
    "print(\"Country DataFrame\")\n",
    "country = pd.DataFrame({'population':population, 'gdp':gdp})\n",
    "print(country)\n",
    "\n",
    "#country.columns\n",
    "\n",
    "# 데이터 프레임에 gdp per capita 칼럼을 추가하고 출력합니다.\n",
    "\n",
    "gdp_per_capita = country['gdp'] / country['population']\n",
    "country['gdp_per_capita'] = gdp_per_capita\n",
    "print(country)\n",
    "\n",
    "# 데이터 프레임을 만들었다면, index와 column도 각각 확인해보세요.\n",
    "print(country.index)\n",
    "print(country.columns)"
   ]
  },
  {
   "cell_type": "code",
   "execution_count": 66,
   "metadata": {},
   "outputs": [
    {
     "name": "stdout",
     "output_type": "stream",
     "text": [
      "population        1.415000e+05\n",
      "gdp               1.409250e+09\n",
      "gdp_per_capita    9.959364e+03\n",
      "Name: china, dtype: float64\n",
      "       population         gdp  gdp_per_capita\n",
      "japan       12718   516700000    40627.457147\n",
      "china      141500  1409250000     9959.363958\n",
      "usa         32676  2041280000    62470.314604\n"
     ]
    }
   ],
   "source": [
    "# 데이터 프레임에서 china 출력, loc : 행\n",
    "print(country.loc['china'])\n",
    "#데이터 프레임에서 1부터 3 인덱스 출력, iloc :열\n",
    "print(country.iloc[1:4])"
   ]
  },
  {
   "cell_type": "code",
   "execution_count": 67,
   "metadata": {},
   "outputs": [
    {
     "name": "stdout",
     "output_type": "stream",
     "text": [
      "DataFrame: \n",
      "   col1 col2  col3\n",
      "0     2    A     0\n",
      "1     1    A     1\n",
      "2     9    B     9\n",
      "3     8  NaN     4\n",
      "4     7    D     2\n",
      "5     4    C     3 \n",
      "\n"
     ]
    }
   ],
   "source": [
    "import numpy as np\n",
    "import pandas as pd\n",
    "\n",
    "print(\"DataFrame: \")\n",
    "df = pd.DataFrame({\n",
    "    'col1' : [2, 1, 9, 8, 7, 4],\n",
    "    'col2' : ['A', 'A', 'B', np.nan, 'D', 'C'],\n",
    "    'col3': [0, 1, 9, 4, 2, 3],\n",
    "})\n",
    "print(df, \"\\n\")\n",
    "\n",
    "\n",
    "# 정렬 코드 입력해보기    \n",
    "# Q1. col1을 기준으로 오름차순으로 정렬하기.\n",
    "\n",
    "sorted_df1 = df.sort_values('col1', ascending=True)\n",
    "\n",
    "\n",
    "# Q2. col2를 기준으로 내림차순으로 정렬하기.\n",
    "\n",
    "sorted_df2 = df.sort_values('col2', ascending=False)\n",
    "\n",
    "# Q3. col2를 기준으로 오름차순으로, col1를 기준으로 내림차순으로 정렬하기.\n",
    "\n",
    "sorted_df3 = df.sort_values(['col2','col1'], ascending=[True,False])\n"
   ]
  },
  {
   "cell_type": "code",
   "execution_count": null,
   "metadata": {},
   "outputs": [],
   "source": []
  }
 ],
 "metadata": {
  "kernelspec": {
   "display_name": "Python 3",
   "language": "python",
   "name": "python3"
  },
  "language_info": {
   "codemirror_mode": {
    "name": "ipython",
    "version": 3
   },
   "file_extension": ".py",
   "mimetype": "text/x-python",
   "name": "python",
   "nbconvert_exporter": "python",
   "pygments_lexer": "ipython3",
   "version": "3.7.6"
  }
 },
 "nbformat": 4,
 "nbformat_minor": 4
}
