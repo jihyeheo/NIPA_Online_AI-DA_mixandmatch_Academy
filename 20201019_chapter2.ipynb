{
 "cells": [
  {
   "cell_type": "markdown",
   "metadata": {},
   "source": [
    "# [활용선택] 파이썬으로 시작하는 데이터 분석"
   ]
  },
  {
   "cell_type": "markdown",
   "metadata": {},
   "source": [
    "## Numpy 조건 검색"
   ]
  },
  {
   "cell_type": "markdown",
   "metadata": {},
   "source": [
    "### 1. Masking and quqery"
   ]
  },
  {
   "cell_type": "code",
   "execution_count": 10,
   "metadata": {},
   "outputs": [
    {
     "name": "stdout",
     "output_type": "stream",
     "text": [
      "Masking & query\n",
      "          A         B\n",
      "0  0.773110  0.030133\n",
      "1  0.454515  0.826287\n",
      "2  0.383027  0.531427\n",
      "3  0.806887  0.228643\n",
      "4  0.625255  0.272295 \n",
      "\n",
      "          A         B\n",
      "2  0.383027  0.531427\n",
      "          A         B\n",
      "2  0.383027  0.531427\n"
     ]
    }
   ],
   "source": [
    "import numpy as np\n",
    "import pandas as pd\n",
    "\n",
    "print(\"Masking & query\")\n",
    "df = pd.DataFrame(np.random.rand(5, 2), columns=[\"A\", \"B\"])\n",
    "print(df, \"\\n\")\n",
    "\n",
    "\n",
    "# Q. 데이터 프레임에서 A컬럼값이 0.4보다 작고 B컬럼 값이 0.3보다 큰값 구하기\n",
    "print(df[(df['A'] < 0.4) & (df['B'] > 0.3)])\n",
    "print(df.query(\"A < 0.4 and B > 0.3\"))"
   ]
  },
  {
   "cell_type": "markdown",
   "metadata": {},
   "source": [
    "### 2. apply"
   ]
  },
  {
   "cell_type": "markdown",
   "metadata": {},
   "source": [
    "일정한 동작으로 데이터 프레임을 수정하고자 할 때 편리하게 이용할 수 있는 기능"
   ]
  },
  {
   "cell_type": "code",
   "execution_count": 14,
   "metadata": {
    "scrolled": true
   },
   "outputs": [
    {
     "name": "stdout",
     "output_type": "stream",
     "text": [
      "   Num  Square\n",
      "0    0       0\n",
      "1    1       1\n",
      "2    2       8\n",
      "3    3      27\n",
      "4    4      64\n"
     ]
    }
   ],
   "source": [
    "import numpy as np\n",
    "import pandas as pd\n",
    "\n",
    "df = pd.DataFrame(np.arange(5), columns=[\"Num\"])\n",
    "\n",
    "# 값을 받으면 세제곱을 해서 돌려주는 함수\n",
    "def square(x):\n",
    "    return x**3\n",
    "# apply로 컬럼에 함수 적용\n",
    "df['Square'] = df['Num'].apply(square)\n",
    "print(df)\n",
    "\n",
    "\n",
    "\n",
    "# 함수 대신 람다 표현식으로도 적용이 가능하다.\n",
    "df['Square'] = df['Num'].apply(lambda x:x**3)"
   ]
  },
  {
   "cell_type": "markdown",
   "metadata": {},
   "source": [
    "### 3. groupby"
   ]
  },
  {
   "cell_type": "markdown",
   "metadata": {},
   "source": [
    "1) 키 값을 기준으로 그룹으로 묶을 수 있다. "
   ]
  },
  {
   "cell_type": "code",
   "execution_count": 22,
   "metadata": {
    "scrolled": true
   },
   "outputs": [
    {
     "name": "stdout",
     "output_type": "stream",
     "text": [
      "DataFrame:\n",
      "  key  data1  data2\n",
      "0   A      1      4\n",
      "1   B      2      4\n",
      "2   C      3      6\n",
      "3   A      1      0\n",
      "4   B      2      6\n",
      "5   C      3      1 \n",
      "\n",
      "     data1  data2\n",
      "key              \n",
      "A        2      4\n",
      "B        4     10\n",
      "C        6      7\n",
      "           data2\n",
      "key data1       \n",
      "A   1          4\n",
      "B   2         10\n",
      "C   3          7\n"
     ]
    }
   ],
   "source": [
    "import numpy as np\n",
    "import pandas as pd\n",
    "\n",
    "df = pd.DataFrame({\n",
    "    'key': ['A', 'B', 'C', 'A', 'B', 'C'],\n",
    "    'data1': [1, 2, 3, 1, 2, 3],\n",
    "    'data2': [4, 4, 6, 0, 6, 1]\n",
    "})\n",
    "print(\"DataFrame:\")\n",
    "print(df, \"\\n\")\n",
    "\n",
    "# groupby 함수를 이용해봅시다.\n",
    "# key를 기준으로 묶어 합계를 구해 출력해보세요.\n",
    "a1 = df.groupby('key').sum()\n",
    "print(a1)\n",
    "\n",
    "# key와 data1을 기준으로 묶어 합계를 구해 출력해보세요.\n",
    "\n",
    "b = df.groupby(['key','data1']).sum()\n",
    "print(b)"
   ]
  },
  {
   "cell_type": "markdown",
   "metadata": {},
   "source": [
    "2) aaggregate() 키 값을 기준으로 그룹으로 묶은 결과의 요약 통계량"
   ]
  },
  {
   "cell_type": "code",
   "execution_count": 23,
   "metadata": {},
   "outputs": [
    {
     "name": "stdout",
     "output_type": "stream",
     "text": [
      "DataFrame:\n",
      "  key  data1  data2\n",
      "0   A      0      4\n",
      "1   B      1      4\n",
      "2   C      2      6\n",
      "3   A      3      0\n",
      "4   B      4      6\n",
      "5   C      5      1 \n",
      "\n",
      "    data1            data2           \n",
      "      min median max   min median max\n",
      "key                                  \n",
      "A       0    1.5   3     0    2.0   4\n",
      "B       1    2.5   4     4    5.0   6\n",
      "C       2    3.5   5     1    3.5   6\n",
      "     data1  data2\n",
      "key              \n",
      "A        3      4\n",
      "B        4     10\n",
      "C        5      7\n"
     ]
    }
   ],
   "source": [
    "import numpy as np\n",
    "import pandas as pd\n",
    "\n",
    "df = pd.DataFrame({\n",
    "    'key': ['A', 'B', 'C', 'A', 'B', 'C'],\n",
    "    'data1': [0, 1, 2, 3, 4, 5],\n",
    "    'data2': [4, 4, 6, 0, 6, 1]\n",
    "})\n",
    "print(\"DataFrame:\")\n",
    "print(df, \"\\n\")\n",
    "\n",
    "# aggregate를 이용하여 요약 통계량을 나타내보자!\n",
    "# 데이터 프레임을 'key' 칼럼으로 묶고, data1과 data2 각각의 \n",
    "# 최솟값, 중앙값, 최댓값을 출력하세요.\n",
    "\n",
    "a1 = df.groupby('key').aggregate(['min',np.median,max])\n",
    "print(a1)\n",
    "\n",
    "\n",
    "# 데이터 프레임을 'key' 칼럼으로 묶고, data1의 최댓값, data2의 합계를 출력하세요.\n",
    "\n",
    "b = df.groupby('key').aggregate({'data1':max,'data2':np.sum})\n",
    "\n",
    "print(b)\n",
    "\n",
    "\n"
   ]
  },
  {
   "cell_type": "markdown",
   "metadata": {},
   "source": [
    "3) filter() 와 apply() 함수 적용해 설정한 조건으로 원하는 값 추출"
   ]
  },
  {
   "cell_type": "code",
   "execution_count": 26,
   "metadata": {},
   "outputs": [
    {
     "name": "stdout",
     "output_type": "stream",
     "text": [
      "filtering : \n",
      "  key  data1  data2\n",
      "1   B      1      4\n",
      "2   C      2      6\n",
      "4   B      4      6\n",
      "5   C      5      1\n",
      "applying : \n",
      "     data1  data2  key\n",
      "key                   \n",
      "A      1.5    2.0  NaN\n",
      "B      1.5    1.0  NaN\n",
      "C      1.5    2.5  NaN\n"
     ]
    }
   ],
   "source": [
    "# groupby()로 묶은 데이터에 filter를 적용해봅시다.\n",
    "# key별 data2의 평균이 2이 넘는 인덱스만 출력해봅시다.\n",
    "\n",
    "print(\"filtering : \")\n",
    "def filter_by_mean(x) :\n",
    "    return x['data2'].mean() > 2\n",
    "\n",
    "a = df.groupby('key').filter(filter_by_mean)\n",
    "print(a)\n",
    "\n",
    "# groupby()로 묶은 데이터에 apply도 적용해봅시다.\n",
    "# 람다식을 이용해 평균에서 최솟값을 뺀 값을 적용해봅시다.\n",
    "\n",
    "print(\"applying : \")\n",
    "\n",
    "b = df.groupby('key').apply(lambda x : x.mean()-x.min())\n",
    "print(b)"
   ]
  },
  {
   "cell_type": "markdown",
   "metadata": {},
   "source": [
    "## 4. Multi Index & Pivot Table"
   ]
  },
  {
   "cell_type": "markdown",
   "metadata": {},
   "source": [
    "인덱스를 계층적으로 만드는 방법"
   ]
  },
  {
   "cell_type": "code",
   "execution_count": 29,
   "metadata": {},
   "outputs": [
    {
     "name": "stdout",
     "output_type": "stream",
     "text": [
      "0   -1.383593\n",
      "1    0.180837\n",
      "2    0.288359\n",
      "3   -0.978761\n",
      "Name: 1, dtype: float64 \n",
      "\n"
     ]
    }
   ],
   "source": [
    "df2 = pd.DataFrame(\n",
    "    np.random.randn(4, 4),\n",
    "    columns=[[\"A\", \"A\", \"B\", \"B\"], [\"1\", \"2\", \"1\", \"2\"]])\n",
    "\n",
    "# df2의 [A][1] 칼럼 출력\n",
    "print(df2[\"A\"][\"1\"], \"\\n\")"
   ]
  },
  {
   "cell_type": "markdown",
   "metadata": {},
   "source": [
    "df.pivot_table(index=\"a\",columns=\"b\",values=\"c\") 이렇게 지정 가능"
   ]
  },
  {
   "cell_type": "code",
   "execution_count": null,
   "metadata": {},
   "outputs": [],
   "source": []
  }
 ],
 "metadata": {
  "kernelspec": {
   "display_name": "Python 3",
   "language": "python",
   "name": "python3"
  },
  "language_info": {
   "codemirror_mode": {
    "name": "ipython",
    "version": 3
   },
   "file_extension": ".py",
   "mimetype": "text/x-python",
   "name": "python",
   "nbconvert_exporter": "python",
   "pygments_lexer": "ipython3",
   "version": "3.7.6"
  }
 },
 "nbformat": 4,
 "nbformat_minor": 4
}
